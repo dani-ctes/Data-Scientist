{
 "cells": [
  {
   "cell_type": "markdown",
   "id": "9fdd1a5a",
   "metadata": {},
   "source": [
    "# DISEÑO DEL PROYECTO"
   ]
  },
  {
   "cell_type": "markdown",
   "id": "8bc317b7",
   "metadata": {},
   "source": [
    "El presente proyecto tiene como objetivo analizar los datos que el líder del sector AirBnb hace públicos, e intentar encontrar los tipos de inmuebles que tienen mayor potencial comercial para alquier turístico.\n",
    "\n",
    "Como entregable principal esperan la tipología (o tipologías) de inmuebles que el equipo de valoraciones debe buscar entre las oportunidades existentes en la ciudad y los principales barrios o zonas geográficas en las que focalizarse.\n",
    "\n",
    "Para cumplir con el objetivo aplicaremos la metodología de Discovery y las técnicas de Business Analytics."
   ]
  },
  {
   "cell_type": "markdown",
   "id": "f3b4995f",
   "metadata": {},
   "source": [
    "## OBJETIVO"
   ]
  },
  {
   "cell_type": "markdown",
   "id": "db5f0acc",
   "metadata": {},
   "source": [
    "Localizar el perfil (o perfiles) de inmuebles que maximizan el potencial comercial en el mercado del alquiler turístico y las principales zonas donde buscarlos."
   ]
  },
  {
   "cell_type": "markdown",
   "id": "7269562c",
   "metadata": {},
   "source": [
    "## PALANCAS"
   ]
  },
  {
   "cell_type": "markdown",
   "id": "91105b05",
   "metadata": {},
   "source": [
    "Se presume que las palancas que tienen más impacto en la rentabilidad de este tipo de inversiones son:\n",
    "\n",
    "* **Precio alquiler**: cuanto más se pueda cobrar por noche, mayor es la rentabilidad\n",
    "* **Ocupación**: en general cuantos más días al año se pueda alquilar un inmueble, mayor es su rentabilidad\n",
    "* **Precio inmueble**: cuanto más barato se pueda adquirir la propiedad, mayor es la rentabilidad"
   ]
  },
  {
   "cell_type": "markdown",
   "id": "87aee2df",
   "metadata": {},
   "source": [
    "## KPI's"
   ]
  },
  {
   "cell_type": "markdown",
   "id": "3e181817",
   "metadata": {},
   "source": [
    "Metricas a tener en cuenta:\n",
    "\n",
    "* Ocupación como el número de días anuales que el inmueble se pueda alquilar\n",
    "* Precio del alquiler como el precio por noche en euros según Airbnb\n",
    "* Precio de un inmueble como la multiplicación entre el número de metros cuadrados y el precio medio del m2 en su zona, y aplicaremos un 30% de descuento sobre el precio oficial como descuento por la negociciación de la compra."
   ]
  },
  {
   "cell_type": "markdown",
   "id": "fe3ca040",
   "metadata": {},
   "source": [
    "## ENTIDADES Y DATOS"
   ]
  },
  {
   "cell_type": "markdown",
   "id": "f624268a",
   "metadata": {},
   "source": [
    "Las entidades relevantes para nuestro objetivo y de las que podemos disponer de datos son:\n",
    "\n",
    "* Inmuebles\n",
    "* Propietarios\n",
    "* Distritos\n",
    "\n",
    "Los datos concretos en cada uno de ellos los revisaremos en el siguiente módulo."
   ]
  },
  {
   "cell_type": "markdown",
   "id": "0c937d28",
   "metadata": {},
   "source": [
    "## PREGUNTAS SEMILLAS"
   ]
  },
  {
   "cell_type": "markdown",
   "id": "721092bc",
   "metadata": {},
   "source": [
    "Sobre el precio del alquiler:\n",
    "\n",
    "* ¿Cual es el precio medio? ¿y el rango de precios?¿Y por distritos/barrio?\n",
    "* ¿Cual es el ranking de distritos / barrios por precio medio de alquiler?\n",
    "* ¿Qué factores (a parte de la localización determinan el precio del alquiler?\n",
    "* ¿Cual es la relación entre el tamaño del inmueble y el precio por el que se puede alquilar?\n",
    "* ¿Cómo influye la competencia (num inmuebles disponibles por barrio) sobre el precio del alquiler?\n",
    "* ¿Cómo varían los precios por tipo de alquiler (todo el piso, habitación privada, habitación compartida)?\n",
    "\n",
    "Sobre la ocupación:\n",
    "\n",
    "* ¿Cual es la ocupación media? ¿Y por distritos / barrios?\n",
    "* ¿Cómo de probable es cada nivel de ocupación en cada distrito?\n",
    "* ¿Cual es el ranking de distritos / barrios por ocupación?\n",
    "* ¿Qué factores (a parte de la localización determinan la ocupación?\n",
    "* ¿Cual es la relación entre el tamaño del inmueble y su grado de ocupación?\n",
    "* ¿Cómo influye la competencia (num inmuebles disponibles por barrio) sobre la ocupación?\n",
    "\n",
    "Sobre el precio de compra:\n",
    "\n",
    "* ¿Cual es el ranking de precio por m2 por distrito?\n",
    "* ¿Cual es el ranking de precio del inmueble (m2 * tamaño medio) por distrito?\n",
    "* ¿Cual es la relación entre el precio del inmueble y el precio del alquiler por distrito?\n",
    "* ¿Cual es la relación entre el precio del inmueble y la ocupación por distrito?"
   ]
  }
 ],
 "metadata": {
  "kernelspec": {
   "display_name": "Python 3 (ipykernel)",
   "language": "python",
   "name": "python3"
  },
  "language_info": {
   "codemirror_mode": {
    "name": "ipython",
    "version": 3
   },
   "file_extension": ".py",
   "mimetype": "text/x-python",
   "name": "python",
   "nbconvert_exporter": "python",
   "pygments_lexer": "ipython3",
   "version": "3.11.5"
  },
  "toc": {
   "base_numbering": 1,
   "nav_menu": {},
   "number_sections": true,
   "sideBar": true,
   "skip_h1_title": false,
   "title_cell": "Table of Contents",
   "title_sidebar": "Contents",
   "toc_cell": false,
   "toc_position": {},
   "toc_section_display": true,
   "toc_window_display": true
  },
  "varInspector": {
   "cols": {
    "lenName": 16,
    "lenType": 16,
    "lenVar": 40
   },
   "kernels_config": {
    "python": {
     "delete_cmd_postfix": "",
     "delete_cmd_prefix": "del ",
     "library": "var_list.py",
     "varRefreshCmd": "print(var_dic_list())"
    },
    "r": {
     "delete_cmd_postfix": ") ",
     "delete_cmd_prefix": "rm(",
     "library": "var_list.r",
     "varRefreshCmd": "cat(var_dic_list()) "
    }
   },
   "types_to_exclude": [
    "module",
    "function",
    "builtin_function_or_method",
    "instance",
    "_Feature"
   ],
   "window_display": false
  }
 },
 "nbformat": 4,
 "nbformat_minor": 5
}
